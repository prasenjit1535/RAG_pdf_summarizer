{
  "nbformat": 4,
  "nbformat_minor": 0,
  "metadata": {
    "colab": {
      "provenance": []
    },
    "kernelspec": {
      "name": "python3",
      "display_name": "Python 3"
    },
    "language_info": {
      "name": "python"
    }
  },
  "cells": [
    {
      "cell_type": "code",
      "execution_count": null,
      "metadata": {
        "id": "UWb171-K2_ZA"
      },
      "outputs": [],
      "source": [
        "%pip install -Uq \"unstructured[all-docs]\" pillow lxml pillow\n",
        "%pip install -Uq chromadb tiktoken\n",
        "%pip install -Uq langchain langchain-community langchain-openai langchain-groq\n",
        "%pip install -Uq python_dotenv\n",
        "%pip install pdfplumber\n",
        "%pip install pytesseract\n",
        "%pip install pdf2image\n",
        "%pip install Pillow\n",
        "%pip install -Uq langchain-groq\n",
        "!apt-get install -y poppler-utils tesseract-ocr\n",
        "!pip install pdfplumber pdf2image pytesseract"
      ]
    }
  ]
}