{
  "nbformat": 4,
  "nbformat_minor": 0,
  "metadata": {
    "colab": {
      "provenance": []
    },
    "kernelspec": {
      "name": "python3",
      "display_name": "Python 3"
    },
    "language_info": {
      "name": "python"
    }
  },
  "cells": [
    {
      "cell_type": "code",
      "execution_count": null,
      "metadata": {
        "id": "SGxh07Tp26Wz"
      },
      "outputs": [],
      "source": [
        "#use this for plain text\n",
        " #Parse without chunking\n",
        "elements = partition_pdf(\n",
        "    filename=\"The Alchemist by Paulo Coelho-1.pdf\",\n",
        "    strategy=\"fast\",\n",
        "    chunking_strategy=None,\n",
        "    start_page=1,\n",
        "    end_page=10\n",
        ")\n",
        "\n",
        "#  Chunk separately\n",
        "from unstructured.chunking.title import chunk_by_title\n",
        "chunks = chunk_by_title(\n",
        "    elements,\n",
        "    max_characters=10000,\n",
        "    combine_text_under_n_chars=2000,\n",
        "    new_after_n_chars=6000\n",
        ")"
      ]
    },
    {
      "cell_type": "code",
      "source": [
        "#use this for scanned pdf and for Images\n",
        "from unstructured.partition.pdf import partition_pdf\n",
        "import logging\n",
        "logging.getLogger(\"pdfminer\").setLevel(logging.ERROR)\n",
        "\n",
        "\n",
        "\n",
        "chunks = partition_pdf(\n",
        "    filename=\"Research Nirdeshika.pdf\",\n",
        "    infer_table_structure=True,            # extract tables\n",
        "    strategy=\"hi_res\",                     # mandatory to infer tables\n",
        "\n",
        "    extract_image_block_types=[\"Image\"],   # Add 'Table' to list to extract image of tables\n",
        "    # image_output_dir_path=output_path,   # if None, images and tables will saved in base64\n",
        "\n",
        "    extract_image_block_to_payload=True,   # if true, will extract base64 for API usage\n",
        "\n",
        "    chunking_strategy=\"by_title\",          # or 'basic'\n",
        "    max_characters=10000,                  # defaults to 500\n",
        "    combine_text_under_n_chars=2000,       # defaults to 0\n",
        "    new_after_n_chars=6000,\n",
        "\n",
        "    start_page=1,\n",
        "    end_page=10\n",
        "\n",
        ")"
      ],
      "metadata": {
        "id": "xwzspTbq3ZR-"
      },
      "execution_count": null,
      "outputs": []
    },
    {
      "cell_type": "code",
      "source": [
        "set([str(type(el)) for el in chunks])"
      ],
      "metadata": {
        "id": "I4_J7a9m3d7S"
      },
      "execution_count": null,
      "outputs": []
    },
    {
      "cell_type": "code",
      "source": [
        "chunks[3].metadata.orig_elements"
      ],
      "metadata": {
        "id": "EEji0S3A3gOI"
      },
      "execution_count": null,
      "outputs": []
    },
    {
      "cell_type": "code",
      "source": [
        "#use for image\n",
        "'''elements = chunks[3].metadata.orig_elements\n",
        "chunk_images = [el for el in elements if 'Image' in str(type(el))]\n",
        "chunk_images[0].to_dict()'''"
      ],
      "metadata": {
        "id": "jYrQ7TY23lnO"
      },
      "execution_count": null,
      "outputs": []
    },
    {
      "cell_type": "code",
      "source": [
        "tables = []\n",
        "texts = []\n",
        "\n",
        "for chunk in chunks:\n",
        "    if \"Table\" in str(type(chunk)):\n",
        "        tables.append(chunk)\n",
        "\n",
        "    if \"CompositeElement\" in str(type((chunk))):\n",
        "        texts.append(chunk)"
      ],
      "metadata": {
        "id": "TfTP0Nyo3omy"
      },
      "execution_count": null,
      "outputs": []
    },
    {
      "cell_type": "code",
      "source": [
        "def get_images_base64(chunks):\n",
        "    images_b64 = []\n",
        "    for chunk in chunks:\n",
        "        if \"CompositeElement\" in str(type(chunk)):\n",
        "            chunk_els = chunk.metadata.orig_elements\n",
        "            for el in chunk_els:\n",
        "                if \"Image\" in str(type(el)):\n",
        "                    images_b64.append(el.metadata.image_base64)\n",
        "    return images_b64\n",
        "\n",
        "images = get_images_base64(chunks)"
      ],
      "metadata": {
        "id": "YAQuj_sn3sJs"
      },
      "execution_count": null,
      "outputs": []
    },
    {
      "cell_type": "code",
      "source": [
        "#Image extarction\n",
        "'''import base64\n",
        "from IPython.display import Image, display\n",
        "\n",
        "def display_base64_image(base64_code):\n",
        "    # Decode the base64 string to binary\n",
        "    image_data = base64.b64decode(base64_code)\n",
        "    # Display the image\n",
        "    display(Image(data=image_data))\n",
        "\n",
        "display_base64_image(images[4])'''"
      ],
      "metadata": {
        "id": "SSAnXm_S3yGA"
      },
      "execution_count": null,
      "outputs": []
    },
    {
      "cell_type": "code",
      "source": [
        "print(chunks[1])"
      ],
      "metadata": {
        "id": "cFmUiszt31_b"
      },
      "execution_count": null,
      "outputs": []
    }
  ]
}