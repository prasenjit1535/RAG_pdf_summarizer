{
  "nbformat": 4,
  "nbformat_minor": 0,
  "metadata": {
    "colab": {
      "provenance": []
    },
    "kernelspec": {
      "name": "python3",
      "display_name": "Python 3"
    },
    "language_info": {
      "name": "python"
    }
  },
  "cells": [
    {
      "cell_type": "code",
      "execution_count": null,
      "metadata": {
        "id": "MqRYmVzx4YA7"
      },
      "outputs": [],
      "source": [
        "import uuid\n",
        "from langchain.vectorstores import Chroma\n",
        "from langchain.storage import InMemoryStore\n",
        "from langchain.schema.document import Document\n",
        "from langchain.embeddings import HuggingFaceEmbeddings\n",
        "from langchain.retrievers.multi_vector import MultiVectorRetriever\n",
        "\n",
        "# Use HuggingFace embeddings (free, local or cached)\n",
        "embedding_model = HuggingFaceEmbeddings(model_name=\"sentence-transformers/all-MiniLM-L6-v2\")\n",
        "\n",
        "# The vectorstore to use to index the child chunks\n",
        "vectorstore = Chroma(\n",
        "    collection_name=\"multi_modal_rag\",\n",
        "    embedding_function=embedding_model\n",
        ")\n",
        "\n",
        "# The storage layer for the parent documents\n",
        "store = InMemoryStore()\n",
        "id_key = \"doc_id\"\n",
        "\n",
        "# The retriever (empty to start)\n",
        "retriever = MultiVectorRetriever(\n",
        "    vectorstore=vectorstore,\n",
        "    docstore=store,\n",
        "    id_key=id_key,\n",
        ")\n"
      ]
    },
    {
      "cell_type": "code",
      "source": [
        "# ✅ Add texts and summaries (you probably already have this)\n",
        "doc_ids = [str(uuid.uuid4()) for _ in texts]\n",
        "summary_docs = [\n",
        "    Document(page_content=summary, metadata={id_key: doc_ids[i]}) for i, summary in enumerate(summaries)\n",
        "]\n",
        "retriever.vectorstore.add_documents(summary_docs)\n",
        "retriever.docstore.mset(list(zip(doc_ids, texts)))\n",
        "\n",
        "'''# Add tables\n",
        "table_ids = [str(uuid.uuid4()) for _ in tables]\n",
        "summary_tables = [\n",
        "    Document(page_content=summary, metadata={id_key: table_ids[i]}) for i, summary in enumerate(summaries)\n",
        "]\n",
        "retriever.vectorstore.add_documents(summary_tables)\n",
        "retriever.docstore.mset(list(zip(table_ids, tables)))\n",
        "\n",
        "# Add image summaries\n",
        "img_ids = [str(uuid.uuid4()) for _ in images]\n",
        "summary_img = [\n",
        "    Document(page_content=summary, metadata={id_key: img_ids[i]}) for i, summary in enumerate(summaries)\n",
        "]\n",
        "retriever.vectorstore.add_documents(summary_img)\n",
        "retriever.docstore.mset(list(zip(img_ids, images)))'''"
      ],
      "metadata": {
        "id": "EhczPeng40v0"
      },
      "execution_count": null,
      "outputs": []
    },
    {
      "cell_type": "code",
      "source": [
        "# Retrieve\n",
        "docs = retriever.invoke(\n",
        "    \"What is an intrusion detection system (IDS)?\"\n",
        ")\n",
        "print(\"\\n📄 Retrieved Documents:\")\n",
        "for doc in docs:\n",
        "    if hasattr(doc, \"page_content\"):\n",
        "        print(\"-\", doc.page_content)\n",
        "    elif hasattr(doc, \"document\") and hasattr(doc.document, \"page_content\"):\n",
        "        print(\"-\", doc.document.page_content)\n",
        "    else:\n",
        "        print(\"-\", str(doc))  # fallback\n"
      ],
      "metadata": {
        "id": "nDMQXUKW45TA"
      },
      "execution_count": null,
      "outputs": []
    }
  ]
}