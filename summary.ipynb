{
  "nbformat": 4,
  "nbformat_minor": 0,
  "metadata": {
    "colab": {
      "provenance": []
    },
    "kernelspec": {
      "name": "python3",
      "display_name": "Python 3"
    },
    "language_info": {
      "name": "python"
    }
  },
  "cells": [
    {
      "cell_type": "code",
      "execution_count": null,
      "metadata": {
        "id": "Tv-yT1P024xW"
      },
      "outputs": [],
      "source": [
        "from langchain_groq import ChatGroq\n",
        "from langchain_core.prompts import ChatPromptTemplate\n",
        "from langchain_core.output_parsers import StrOutputParser\n",
        "from langchain_core.runnables import RunnablePassthrough\n",
        "import os\n",
        "import time\n",
        "from tenacity import retry, wait_exponential, stop_after_attempt\n",
        "\n",
        "os.environ[\"GROQ_API_KEY\"] = \"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\"\n",
        "prompt_text = \"\"\"\n",
        "You are an assistant tasked with summarizing tables and text.\n",
        "Give a concise summary of the table or text.\n",
        "\n",
        "Respond only with the summary, no additionnal comment.\n",
        "Do not start your message by saying \"Here is a summary\" or anything like that.\n",
        "Just give the summary as it is.\n",
        "\n",
        "Table or text chunk: {element}\n",
        "\n",
        "\"\"\"\n",
        "prompt = ChatPromptTemplate.from_template(prompt_text)\n",
        "\n",
        "# Summary chain\n",
        "model = ChatGroq(temperature=0.2, model=\"llama3-70b-8192\",max_retries=2)\n",
        "summarize_chain = {\"element\":  RunnablePassthrough()} | prompt | model | StrOutputParser()"
      ]
    },
    {
      "cell_type": "code",
      "source": [
        "import time\n",
        "\n",
        "def safe_summarize(texts, summarize_chain, batch_size=2, retry_delay=15):\n",
        "    summaries = []\n",
        "\n",
        "    for i in range(0, len(texts), batch_size):\n",
        "        batch = texts[i:i + batch_size]\n",
        "        success = False\n",
        "\n",
        "        while not success:\n",
        "            try:\n",
        "                # Process batch with limited concurrency\n",
        "                batch_summaries = summarize_chain.batch(batch, {\"max_concurrency\": 1})\n",
        "                summaries.extend(batch_summaries)\n",
        "                success = True\n",
        "            except Exception as e:\n",
        "                error_msg = str(e)\n",
        "                if 'rate limit' in error_msg.lower() or '429' in error_msg:\n",
        "                    print(\" Rate limit hit. Retrying in\", retry_delay, \"seconds...\")\n",
        "                    time.sleep(retry_delay)\n",
        "                else:\n",
        "                    print(\" Unexpected error:\", error_msg)\n",
        "                    success = True  # Exit loop even if there's an error\n",
        "\n",
        "    return summaries\n",
        "\n",
        "\n",
        "summaries = safe_summarize(texts, summarize_chain)"
      ],
      "metadata": {
        "id": "asVMnYYH4MV_"
      },
      "execution_count": null,
      "outputs": []
    },
    {
      "cell_type": "code",
      "source": [
        "#for image summery\n",
        "'''from langchain_openai import ChatOpenAI\n",
        "\n",
        "prompt_template = \"\"\"Describe the image in detail. For context,\n",
        "                  the image is part of a research paper explaining the transformers\n",
        "                  architecture. Be specific about graphs, such as bar plots.\"\"\"\n",
        "messages = [\n",
        "    (\n",
        "        \"user\",\n",
        "        [\n",
        "            {\"type\": \"text\", \"text\": prompt_template},\n",
        "            {\n",
        "                \"type\": \"image_url\",\n",
        "                \"image_url\": {\"url\": \"data:image/jpeg;base64,{image}\"},\n",
        "            },\n",
        "        ],\n",
        "    )\n",
        "]\n",
        "\n",
        "prompt = ChatPromptTemplate.from_messages(messages)\n",
        "\n",
        "chain = prompt | Chatgroq(model=\"llama3-70b-8192\") | StrOutputParser()\n",
        "\n",
        "\n",
        "image_summaries = chain.batch(images)'''"
      ],
      "metadata": {
        "id": "NJNr88UU4O3f"
      },
      "execution_count": null,
      "outputs": []
    }
  ]
}